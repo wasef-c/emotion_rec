{
  "nbformat": 4,
  "nbformat_minor": 0,
  "metadata": {
    "colab": {
      "provenance": [],
      "mount_file_id": "1UeCB_aQU54pi8DqlXxJr3vX8KPTJd54A",
      "authorship_tag": "ABX9TyOquJoXhDX7Z/V/rti2omJL",
      "include_colab_link": true
    },
    "kernelspec": {
      "name": "python3",
      "display_name": "Python 3"
    },
    "language_info": {
      "name": "python"
    }
  },
  "cells": [
    {
      "cell_type": "markdown",
      "metadata": {
        "id": "view-in-github",
        "colab_type": "text"
      },
      "source": [
        "<a href=\"https://colab.research.google.com/github/wasef-c/emotion_rec/blob/main/Bi_DirectionalLSTM_Performance_Evaluation.ipynb\" target=\"_parent\"><img src=\"https://colab.research.google.com/assets/colab-badge.svg\" alt=\"Open In Colab\"/></a>"
      ]
    },
    {
      "cell_type": "markdown",
      "source": [
        "**Bi-Directional LSTM - Emotion Recognition**\n",
        "\n",
        "The following notebook assesses the CNN before hyperparamater tuning and after to decide on the best model"
      ],
      "metadata": {
        "id": "FptHbEkLqS4n"
      }
    },
    {
      "cell_type": "markdown",
      "source": [
        "**Make sure you make your X and Y Datasets from the noteboook data-preprocessing here:**\n",
        "\n",
        "https://colab.research.google.com/drive/1dD9sspV9kJ0HjqX2sTjH-3DFNpLKY8QY?usp=sharing"
      ],
      "metadata": {
        "id": "AThe9ZgurFzU"
      }
    },
    {
      "cell_type": "markdown",
      "source": [
        "**Make sure you make train and optimize hyperpamaters from this notebook**\n",
        "\n",
        "https://colab.research.google.com/drive/1dD9sspV9kJ0HjqX2sTjH-3DFNpLKY8QY?usp=sharing"
      ],
      "metadata": {
        "id": "F9-3nyzirH1b"
      }
    },
    {
      "cell_type": "code",
      "source": [],
      "metadata": {
        "id": "_6DeIBPgruog"
      },
      "execution_count": null,
      "outputs": []
    },
    {
      "cell_type": "code",
      "source": [],
      "metadata": {
        "id": "FgGEvxqtruvZ"
      },
      "execution_count": null,
      "outputs": []
    },
    {
      "cell_type": "code",
      "source": [
        "# Dependencies\n",
        "import numpy as np\n",
        "import pandas as pd\n",
        "import os\n",
        "import librosa\n",
        "import matplotlib.pyplot as plt\n",
        "import gc\n",
        "import time\n",
        "from tqdm import tqdm, tqdm_notebook; tqdm.pandas() # Progress bar\n",
        "from sklearn.metrics import label_ranking_average_precision_score\n",
        "from sklearn.model_selection import train_test_split\n",
        "\n",
        "# Machine Learning\n",
        "import tensorflow as tf\n",
        "from keras import backend as K\n",
        "from tensorflow.keras.layers import Layer, InputSpec\n",
        "\n",
        "# from keras.engine.topology import Layer\n",
        "from keras import initializers, regularizers, constraints, optimizers, layers\n",
        "\n",
        "from tensorflow.keras.layers import (Dense, Bidirectional, ELU,\n",
        "                          Dropout, LeakyReLU, Conv1D, BatchNormalization)\n",
        "from keras.models import Sequential\n",
        "# from keras.optimizers import Adam\n",
        "from keras.callbacks import EarlyStopping\n",
        "\n",
        "\n",
        "# Set seed for reproducability\n",
        "seed = 1234\n",
        "np.random.seed(seed)\n",
        "tf.random.set_seed(seed)\n",
        "\n",
        "t_start = time.time()"
      ],
      "metadata": {
        "id": "Vmo2-V8sruzu"
      },
      "execution_count": null,
      "outputs": []
    },
    {
      "cell_type": "code",
      "source": [
        "save_directory = '/content/drive/MyDrive/MASC/Saved_Sets/008'\n",
        "\n",
        "X_test = np.load(os.path.join(save_directory, 'X_Te008.npy'))\n",
        "Y_test = np.load(os.path.join(save_directory, 'Y_Te008.npy'))\n"
      ],
      "metadata": {
        "id": "Y1KoIFn2ru1t"
      },
      "execution_count": null,
      "outputs": []
    },
    {
      "cell_type": "code",
      "source": [
        "def splitIntoChunks(mel_spec,win_size,stride):\n",
        "    t = mel_spec.shape[1]\n",
        "    num_of_chunks = int(t/stride)\n",
        "    chunks = []\n",
        "    for i in range(num_of_chunks):\n",
        "        chunk = mel_spec[:,i*stride:i*stride+win_size]\n",
        "        if chunk.shape[1] == win_size:\n",
        "            chunks.append(chunk)\n",
        "    return np.stack(chunks,axis=0)"
      ],
      "metadata": {
        "id": "cZZUUUJXru67"
      },
      "execution_count": null,
      "outputs": []
    },
    {
      "cell_type": "code",
      "source": [
        "import torch\n",
        "import torch.nn as nn\n",
        "# BATCH FIRST TimeDistributed layer\n",
        "class TimeDistributed(nn.Module):\n",
        "    def __init__(self, module):\n",
        "        super(TimeDistributed, self).__init__()\n",
        "        self.module = module\n",
        "\n",
        "    def forward(self, x):\n",
        "\n",
        "        if len(x.size()) <= 2:\n",
        "            return self.module(x)\n",
        "        # squash samples and timesteps into a single axis\n",
        "        elif len(x.size()) == 3: # (samples, timesteps, inp1)\n",
        "            x_reshape = x.contiguous().view(-1, x.size(2))  # (samples * timesteps, inp1)\n",
        "        elif len(x.size()) == 4: # (samples,timesteps,inp1,inp2)\n",
        "            x_reshape = x.contiguous().view(-1, x.size(2), x.size(3)) # (samples*timesteps,inp1,inp2)\n",
        "        else: # (samples,timesteps,inp1,inp2,inp3)\n",
        "            x_reshape = x.contiguous().view(-1, x.size(2), x.size(3),x.size(4)) # (samples*timesteps,inp1,inp2,inp3)\n",
        "\n",
        "        y = self.module(x_reshape)\n",
        "\n",
        "        # we have to reshape Y\n",
        "        if len(x.size()) == 3:\n",
        "            y = y.contiguous().view(x.size(0), -1, y.size(1))  # (samples, timesteps, out1)\n",
        "        elif len(x.size()) == 4:\n",
        "            y = y.contiguous().view(x.size(0), -1, y.size(1), y.size(2)) # (samples, timesteps, out1,out2)\n",
        "        else:\n",
        "            y = y.contiguous().view(x.size(0), -1, y.size(1), y.size(2),y.size(3)) # (samples, timesteps, out1,out2, out3)\n",
        "        return y"
      ],
      "metadata": {
        "id": "bPZ_rIoirsiS"
      },
      "execution_count": null,
      "outputs": []
    },
    {
      "cell_type": "code",
      "source": [
        "# ''' https://github.com/Data-Science-kosta/Speech-Emotion-Classification-with-PyTorch/blob/master/notebooks/stacked_cnn_attention_lstm.ipynb'''\n",
        "class HybridModel(nn.Module):\n",
        "    def __init__(self,num_emotions, dropout_rate, hidden_size, lstm_layers):\n",
        "        super().__init__()\n",
        "        # conv block\n",
        "        self.conv2Dblock = nn.Sequential(\n",
        "            # 1. conv block\n",
        "            TimeDistributed(nn.Conv2d(in_channels=1,\n",
        "                                   out_channels=16,\n",
        "                                   kernel_size=3,\n",
        "                                   stride=1,\n",
        "                                   padding=1\n",
        "                                  )),\n",
        "            TimeDistributed(nn.BatchNorm2d(16)),\n",
        "            TimeDistributed(nn.ReLU()),\n",
        "            TimeDistributed(nn.MaxPool2d(kernel_size=2, stride=2)),\n",
        "            TimeDistributed(nn.Dropout(p=dropout_rate)),\n",
        "            # 2. conv block\n",
        "            TimeDistributed(nn.Conv2d(in_channels=16,\n",
        "                                   out_channels=32,\n",
        "                                   kernel_size=3,\n",
        "                                   stride=1,\n",
        "                                   padding=1\n",
        "                                  )),\n",
        "            TimeDistributed(nn.BatchNorm2d(32)),\n",
        "            TimeDistributed(nn.ReLU()),\n",
        "            TimeDistributed(nn.MaxPool2d(kernel_size=4, stride=4)),\n",
        "            TimeDistributed(nn.Dropout(p=dropout_rate)),\n",
        "            # 3. conv block\n",
        "            TimeDistributed(nn.Conv2d(in_channels=32,\n",
        "                                   out_channels=64,\n",
        "                                   kernel_size=3,\n",
        "                                   stride=1,\n",
        "                                   padding=1\n",
        "                                  )),\n",
        "            TimeDistributed(nn.BatchNorm2d(64)),\n",
        "            TimeDistributed(nn.ReLU()),\n",
        "            TimeDistributed(nn.MaxPool2d(kernel_size=4, stride=4)),\n",
        "            TimeDistributed(nn.Dropout(p=dropout_rate))\n",
        "        )\n",
        "        # LSTM block\n",
        "\n",
        "        # hidden_size = 64\n",
        "        self.lstm = nn.LSTM(input_size=1024,hidden_size=hidden_size,bidirectional=True, batch_first=True, num_layers=lstm_layers)\n",
        "\n",
        "        self.dropout_lstm = nn.Dropout(p=0.4)\n",
        "        self.attention_linear = nn.Linear(2*hidden_size,1) # 2*hidden_size for the 2 outputs of bidir LSTM\n",
        "        # Linear softmax layer\n",
        "        self.out_linear = nn.Linear(2*hidden_size,num_emotions)\n",
        "\n",
        "        # hidden_size = 32\n",
        "        # self.lstm = nn.LSTM(input_size=1024,hidden_size=hidden_size,bidirectional=False, batch_first=True)\n",
        "        # ''' # ADDED FOR GPU\n",
        "        # self.lstm.flatten_parameters() '''\n",
        "\n",
        "        # self.dropout_lstm = nn.Dropout(p=0.4)\n",
        "        # self.attention_linear = nn.Linear(hidden_size,1) # 2*hidden_size for the 2 outputs of bidir LSTM\n",
        "        # # Linear softmax layer\n",
        "        # self.out_linear = nn.Linear(hidden_size,num_emotions)\n",
        "    def forward(self,x):\n",
        "        conv_embedding = self.conv2Dblock(x)\n",
        "        conv_embedding = torch.flatten(conv_embedding, start_dim=2) # do not flatten batch dimension and time\n",
        "        lstm_embedding, (h,c) = self.lstm(conv_embedding)\n",
        "        lstm_embedding = self.dropout_lstm(lstm_embedding)\n",
        "        # lstm_embedding (batch, time, hidden_size*2)\n",
        "        batch_size,T,_ = lstm_embedding.shape\n",
        "        attention_weights = [None]*T\n",
        "        for t in range(T):\n",
        "            embedding = lstm_embedding[:,t,:]\n",
        "            attention_weights[t] = self.attention_linear(embedding)\n",
        "        attention_weights_norm = nn.functional.softmax(torch.stack(attention_weights,-1),dim=-1)\n",
        "        attention = torch.bmm(attention_weights_norm,lstm_embedding) # (Bx1xT)*(B,T,hidden_size*2)=(B,1,2*hidden_size)\n",
        "        attention = torch.squeeze(attention, 1)\n",
        "        output_logits = self.out_linear(attention)\n",
        "        output_softmax = nn.functional.softmax(output_logits,dim=1)\n",
        "        return output_logits, output_softmax, attention_weights_norm\n"
      ],
      "metadata": {
        "id": "3M13uORkrgLx"
      },
      "execution_count": null,
      "outputs": []
    },
    {
      "cell_type": "code",
      "source": [
        "def make_validate_fnc(model,loss_fnc):\n",
        "    def validate(X,Y):\n",
        "        with torch.no_grad():\n",
        "            model.eval()\n",
        "            output_logits, output_softmax, attention_weights_norm = model(X)\n",
        "            predictions = torch.argmax(output_softmax,dim=1)\n",
        "            accuracy = torch.sum(Y==predictions)/float(len(Y))\n",
        "            loss = loss_fnc(output_logits,Y)\n",
        "        return loss.item(), accuracy*100, predictions\n",
        "    return validate"
      ],
      "metadata": {
        "id": "k3DNUgwNvNcN"
      },
      "execution_count": null,
      "outputs": []
    },
    {
      "cell_type": "code",
      "source": [
        "def loss_fnc(predictions, targets):\n",
        "    return nn.CrossEntropyLoss()(input=predictions,target=targets)"
      ],
      "metadata": {
        "id": "MQa-o62AvR8V"
      },
      "execution_count": null,
      "outputs": []
    },
    {
      "cell_type": "code",
      "source": [
        "EMOTIONS  = {\n",
        "    0: 'neutral',\n",
        "    1: 'happy',\n",
        "    2: 'sad',\n",
        "    3: 'angry',\n",
        "    4: 'fearful',\n",
        "    5: 'disgust',\n",
        "}\n",
        "LOAD_PATH = r'/content/drive/MyDrive/MASC/Saved_Models'\n",
        "\n",
        "original_model = HybridModel(num_emotions=6, dropout_rate=0.3, hidden_size= 64,lstm_layers=1 )\n",
        "optimized_model = HybridModel(num_emotions=6, dropout_rate=0.3, hidden_size= 64,lstm_layers=1 )\n",
        "original_model.load_state_dict(torch.load(os.path.join(LOAD_PATH,'cnn_attention_lstm_model8.pt')))\n",
        "optimized_model.load_state_dict(torch.load(os.path.join(LOAD_PATH,'cnn_attention_lstm_model_8_c.pt')))\n"
      ],
      "metadata": {
        "colab": {
          "base_uri": "https://localhost:8080/"
        },
        "id": "UFBqKT79rO1V",
        "outputId": "1aeb16d2-19ca-4631-d9ee-8460bc5daae7"
      },
      "execution_count": null,
      "outputs": [
        {
          "output_type": "execute_result",
          "data": {
            "text/plain": [
              "<All keys matched successfully>"
            ]
          },
          "metadata": {},
          "execution_count": 14
        }
      ]
    },
    {
      "cell_type": "code",
      "source": [
        "def splitIntoChunks(mel_spec,win_size,stride):\n",
        "    t = mel_spec.shape[1]\n",
        "    num_of_chunks = int(t/stride)\n",
        "    chunks = []\n",
        "    for i in range(num_of_chunks):\n",
        "        chunk = mel_spec[:,i*stride:i*stride+win_size]\n",
        "        if chunk.shape[1] == win_size:\n",
        "            chunks.append(chunk)\n",
        "    return np.stack(chunks,axis=0)"
      ],
      "metadata": {
        "id": "P9WOOEdCvsim"
      },
      "execution_count": null,
      "outputs": []
    },
    {
      "cell_type": "code",
      "source": [
        "# get chunks\n",
        "from sklearn.preprocessing import StandardScaler\n",
        "\n",
        "\n",
        "save_directory = r'/content/drive/MyDrive/MASC/Saved_Sets/008'\n",
        "\n",
        "X_test = np.load(os.path.join(save_directory, 'X_Te008.npy'))\n",
        "Y_test = np.load(os.path.join(save_directory, 'Y_Te008.npy'))\n",
        "\n",
        "\n",
        "\n",
        "mel_test_chunked = []\n",
        "for mel_spec in X_test:\n",
        "    chunks = splitIntoChunks(mel_spec, win_size=128,stride=64)\n",
        "    mel_test_chunked.append(chunks)\n",
        "print(\"Number of chunks is {}\".format(chunks.shape[0]))\n",
        "\n",
        "X_test = np.stack(mel_test_chunked,axis=0)\n",
        "X_test = np.expand_dims(X_test,2)\n",
        "print('Shape of X_test: ',X_test.shape)\n",
        "\n",
        "scaler = StandardScaler()\n",
        "\n",
        "b,t,c,h,w = X_test.shape\n",
        "X_test = np.reshape(X_test, newshape=(b,-1))\n",
        "scaler.fit(X_test)\n",
        "\n",
        "X_test = scaler.transform(X_test)\n",
        "X_test = np.reshape(X_test, newshape=(b,t,c,h,w))"
      ],
      "metadata": {
        "colab": {
          "base_uri": "https://localhost:8080/"
        },
        "id": "SJS8A-AovwRO",
        "outputId": "496c1534-3fcd-4b88-fa14-92682d8c124f"
      },
      "execution_count": null,
      "outputs": [
        {
          "output_type": "stream",
          "name": "stdout",
          "text": [
            "Number of chunks is 1\n",
            "Shape of X_test:  (3614, 1, 1, 87, 128)\n"
          ]
        }
      ]
    },
    {
      "cell_type": "code",
      "source": [],
      "metadata": {
        "id": "1Afj6_PSv7re"
      },
      "execution_count": null,
      "outputs": []
    },
    {
      "cell_type": "code",
      "source": [
        "import torch\n",
        "from sklearn.metrics import f1_score\n",
        "from sklearn.metrics import f1_score, cohen_kappa_score, matthews_corrcoef\n",
        "\n",
        "# Assuming the validate function returns predictions in a format compatible with scikit-learn\n",
        "validate = make_validate_fnc(original_model,loss_fnc)\n",
        "\n",
        "\n",
        "X_test_tensor = torch.tensor(X_test, device='cpu').float()\n",
        "Y_test_tensor = torch.tensor(Y_test, dtype=torch.long, device='cpu')\n",
        "test_loss, test_acc, predictions = validate(X_test_tensor,Y_test_tensor)\n",
        "\n",
        "\n",
        "test_loss, test_acc, predictions = validate(X_test_tensor, Y_test_tensor)\n",
        "\n",
        "# Calculate F1 score\n",
        "f1 = f1_score(Y_test_tensor.cpu().numpy(), predictions.cpu().numpy(), average='weighted')\n",
        "\n",
        "# Calculate Cohen's Kappa\n",
        "kappa = cohen_kappa_score(Y_test_tensor.cpu().numpy(), predictions.cpu().numpy())\n",
        "\n",
        "# Calculate Matthews Correlation Coefficient\n",
        "mcc = matthews_corrcoef(Y_test_tensor.cpu().numpy(), predictions.cpu().numpy())\n",
        "\n",
        "print(f'Test loss is {test_loss:.3f}')\n",
        "print(f'Test accuracy is {test_acc:.2f}%')\n",
        "print(f'F1 score is {f1:.2f}')\n",
        "print(f'Cohen\\'s Kappa is {kappa:.2f}')\n",
        "print(f'Matthews Correlation Coefficient is {mcc:.2f}')"
      ],
      "metadata": {
        "colab": {
          "base_uri": "https://localhost:8080/"
        },
        "id": "8TB1nsnVu2jr",
        "outputId": "38037560-b24d-41dd-fffc-89b7a09cb0e8"
      },
      "execution_count": null,
      "outputs": [
        {
          "output_type": "stream",
          "name": "stdout",
          "text": [
            "Test loss is 1.014\n",
            "Test accuracy is 60.02%\n",
            "F1 score is 0.59\n",
            "Cohen's Kappa is 0.51\n",
            "Matthews Correlation Coefficient is 0.52\n"
          ]
        }
      ]
    },
    {
      "cell_type": "code",
      "source": [
        "\n",
        "validate = make_validate_fnc(optimized_model,loss_fnc)\n",
        "\n",
        "test_loss_opt, test_acc_opt, predictions_opt = validate(X_test_tensor,Y_test_tensor)\n",
        "\n",
        "# Calculate F1 score\n",
        "f1_opt = f1_score(Y_test_tensor.cpu().numpy(), predictions_opt.cpu().numpy(), average='weighted')\n",
        "\n",
        "# Calculate Cohen's Kappa\n",
        "kappa_opt = cohen_kappa_score(Y_test_tensor.cpu().numpy(), predictions_opt.cpu().numpy())\n",
        "\n",
        "# Calculate Matthews Correlation Coefficient\n",
        "mcc_opt = matthews_corrcoef(Y_test_tensor.cpu().numpy(), predictions_opt.cpu().numpy())\n",
        "\n",
        "print(f'Test loss is {test_loss_opt:.3f}')\n",
        "print(f'Test accuracy is {test_acc_opt:.2f}%')\n",
        "print(f'F1 score is {f1_opt:.2f}')\n",
        "print(f'Cohen\\'s Kappa is {kappa_opt:.2f}')\n",
        "print(f'Matthews Correlation Coefficient is {mcc_opt:.2f}')"
      ],
      "metadata": {
        "colab": {
          "base_uri": "https://localhost:8080/"
        },
        "id": "m_sNVyvnxI5z",
        "outputId": "f7060b78-c155-4fe5-810b-57cdacc2aaa6"
      },
      "execution_count": null,
      "outputs": [
        {
          "output_type": "stream",
          "name": "stdout",
          "text": [
            "Test loss is 1.160\n",
            "Test accuracy is 60.38%\n",
            "F1 score is 0.60\n",
            "Cohen's Kappa is 0.52\n",
            "Matthews Correlation Coefficient is 0.52\n"
          ]
        }
      ]
    },
    {
      "cell_type": "code",
      "source": [
        "from sklearn.metrics import confusion_matrix\n",
        "import seaborn as sn\n",
        "\n",
        "# predictions = predictions.cpu().numpy()\n",
        "cm = confusion_matrix(Y_test, predictions_opt)\n",
        "names = [EMOTIONS[ind] for ind in range(0,6)]\n",
        "df_cm = pd.DataFrame(cm, index=names, columns=names)\n",
        "# plt.figure(figsize=(10,7))\n",
        "sn.set(font_scale=1.4) # for label size\n",
        "sn.heatmap(df_cm, annot=False, annot_kws={\"size\": 16}) # font size\n",
        "plt.show()"
      ],
      "metadata": {
        "colab": {
          "base_uri": "https://localhost:8080/",
          "height": 496
        },
        "id": "WhLqj3yGxvs1",
        "outputId": "c6223572-6b34-4e5c-8902-fd7bddfb0459"
      },
      "execution_count": null,
      "outputs": [
        {
          "output_type": "display_data",
          "data": {
            "text/plain": [
              "<Figure size 640x480 with 2 Axes>"
            ],
            "image/png": "[encoded data removed]"
          },
          "metadata": {}
        }
      ]
    }
  ]
}